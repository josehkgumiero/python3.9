{
 "cells": [
  {
   "cell_type": "code",
   "execution_count": null,
   "id": "de211bcd-9a57-48fc-9454-c16ba481b64e",
   "metadata": {},
   "outputs": [],
   "source": [
    "import os"
   ]
  },
  {
   "cell_type": "code",
   "execution_count": 2,
   "id": "11dc4442-645a-401e-869f-8cee2e5cf53b",
   "metadata": {},
   "outputs": [
    {
     "name": "stdout",
     "output_type": "stream",
     "text": [
      ".\\.ipynb_checkpoints [] ['Untitled-checkpoint.ipynb']\n",
      ".\\datasets [] ['corona_tested_individuals_ver_0083.english.csv']\n",
      ". ['.ipynb_checkpoints', 'datasets'] ['Untitled.ipynb']\n"
     ]
    }
   ],
   "source": [
    "for _root, _dirs, _files in os.walk(\".\", topdown=False):\n",
    "    print(_root, _dirs, _files)"
   ]
  },
  {
   "cell_type": "code",
   "execution_count": 3,
   "id": "be91a136-a5d7-40b0-9e73-cda2575e5563",
   "metadata": {},
   "outputs": [
    {
     "name": "stdout",
     "output_type": "stream",
     "text": [
      "./datasets/corona_tested_individuals_ver_0083.english.csv\n"
     ]
    }
   ],
   "source": [
    "_file = 'corona_tested_individuals_ver_0083.english.csv'\n",
    "_relative_path = 'datasets'\n",
    "_absolute_path =  \"\"\"./{}/{}\"\"\".format(_relative_path, _file)\n",
    "print(_absolute_path)"
   ]
  },
  {
   "cell_type": "code",
   "execution_count": 1,
   "id": "7af6fb39-42f4-40c7-8c60-d2d72f6e0f58",
   "metadata": {},
   "outputs": [],
   "source": [
    "import pandas as pd"
   ]
  },
  {
   "cell_type": "code",
   "execution_count": 4,
   "id": "399becd3-6781-41ed-b428-4b8cd13e4fad",
   "metadata": {},
   "outputs": [],
   "source": [
    "_dataframe = pd.read_csv(_absolute_path)"
   ]
  },
  {
   "cell_type": "code",
   "execution_count": 5,
   "id": "af14665e-8c1f-4e0f-857c-16001fd70ba2",
   "metadata": {},
   "outputs": [
    {
     "data": {
      "text/html": [
       "<div>\n",
       "<style scoped>\n",
       "    .dataframe tbody tr th:only-of-type {\n",
       "        vertical-align: middle;\n",
       "    }\n",
       "\n",
       "    .dataframe tbody tr th {\n",
       "        vertical-align: top;\n",
       "    }\n",
       "\n",
       "    .dataframe thead th {\n",
       "        text-align: right;\n",
       "    }\n",
       "</style>\n",
       "<table border=\"1\" class=\"dataframe\">\n",
       "  <thead>\n",
       "    <tr style=\"text-align: right;\">\n",
       "      <th></th>\n",
       "      <th>test_date</th>\n",
       "      <th>cough</th>\n",
       "      <th>fever</th>\n",
       "      <th>sore_throat</th>\n",
       "      <th>shortness_of_breath</th>\n",
       "      <th>head_ache</th>\n",
       "      <th>corona_result</th>\n",
       "      <th>age_60_and_above</th>\n",
       "      <th>gender</th>\n",
       "      <th>test_indication</th>\n",
       "    </tr>\n",
       "  </thead>\n",
       "  <tbody>\n",
       "    <tr>\n",
       "      <th>0</th>\n",
       "      <td>2020-11-12</td>\n",
       "      <td>0</td>\n",
       "      <td>0</td>\n",
       "      <td>0</td>\n",
       "      <td>0</td>\n",
       "      <td>0</td>\n",
       "      <td>negative</td>\n",
       "      <td>No</td>\n",
       "      <td>male</td>\n",
       "      <td>Other</td>\n",
       "    </tr>\n",
       "    <tr>\n",
       "      <th>1</th>\n",
       "      <td>2020-11-12</td>\n",
       "      <td>0</td>\n",
       "      <td>1</td>\n",
       "      <td>0</td>\n",
       "      <td>0</td>\n",
       "      <td>0</td>\n",
       "      <td>negative</td>\n",
       "      <td>No</td>\n",
       "      <td>male</td>\n",
       "      <td>Other</td>\n",
       "    </tr>\n",
       "    <tr>\n",
       "      <th>2</th>\n",
       "      <td>2020-11-12</td>\n",
       "      <td>0</td>\n",
       "      <td>0</td>\n",
       "      <td>0</td>\n",
       "      <td>0</td>\n",
       "      <td>0</td>\n",
       "      <td>negative</td>\n",
       "      <td>Yes</td>\n",
       "      <td>female</td>\n",
       "      <td>Other</td>\n",
       "    </tr>\n",
       "    <tr>\n",
       "      <th>3</th>\n",
       "      <td>2020-11-12</td>\n",
       "      <td>0</td>\n",
       "      <td>0</td>\n",
       "      <td>0</td>\n",
       "      <td>0</td>\n",
       "      <td>0</td>\n",
       "      <td>negative</td>\n",
       "      <td>No</td>\n",
       "      <td>male</td>\n",
       "      <td>Other</td>\n",
       "    </tr>\n",
       "    <tr>\n",
       "      <th>4</th>\n",
       "      <td>2020-11-12</td>\n",
       "      <td>0</td>\n",
       "      <td>1</td>\n",
       "      <td>0</td>\n",
       "      <td>0</td>\n",
       "      <td>0</td>\n",
       "      <td>negative</td>\n",
       "      <td>No</td>\n",
       "      <td>male</td>\n",
       "      <td>Contact with confirmed</td>\n",
       "    </tr>\n",
       "    <tr>\n",
       "      <th>...</th>\n",
       "      <td>...</td>\n",
       "      <td>...</td>\n",
       "      <td>...</td>\n",
       "      <td>...</td>\n",
       "      <td>...</td>\n",
       "      <td>...</td>\n",
       "      <td>...</td>\n",
       "      <td>...</td>\n",
       "      <td>...</td>\n",
       "      <td>...</td>\n",
       "    </tr>\n",
       "    <tr>\n",
       "      <th>158601</th>\n",
       "      <td>2020-10-30</td>\n",
       "      <td>0</td>\n",
       "      <td>0</td>\n",
       "      <td>0</td>\n",
       "      <td>0</td>\n",
       "      <td>0</td>\n",
       "      <td>negative</td>\n",
       "      <td>NaN</td>\n",
       "      <td>male</td>\n",
       "      <td>Other</td>\n",
       "    </tr>\n",
       "    <tr>\n",
       "      <th>158602</th>\n",
       "      <td>2020-10-30</td>\n",
       "      <td>0</td>\n",
       "      <td>0</td>\n",
       "      <td>0</td>\n",
       "      <td>0</td>\n",
       "      <td>0</td>\n",
       "      <td>negative</td>\n",
       "      <td>NaN</td>\n",
       "      <td>female</td>\n",
       "      <td>Other</td>\n",
       "    </tr>\n",
       "    <tr>\n",
       "      <th>158603</th>\n",
       "      <td>2020-10-30</td>\n",
       "      <td>0</td>\n",
       "      <td>0</td>\n",
       "      <td>0</td>\n",
       "      <td>0</td>\n",
       "      <td>0</td>\n",
       "      <td>negative</td>\n",
       "      <td>NaN</td>\n",
       "      <td>male</td>\n",
       "      <td>Other</td>\n",
       "    </tr>\n",
       "    <tr>\n",
       "      <th>158604</th>\n",
       "      <td>2020-10-30</td>\n",
       "      <td>0</td>\n",
       "      <td>0</td>\n",
       "      <td>0</td>\n",
       "      <td>0</td>\n",
       "      <td>0</td>\n",
       "      <td>negative</td>\n",
       "      <td>NaN</td>\n",
       "      <td>female</td>\n",
       "      <td>Other</td>\n",
       "    </tr>\n",
       "    <tr>\n",
       "      <th>158605</th>\n",
       "      <td>2020-10-30</td>\n",
       "      <td>0</td>\n",
       "      <td>0</td>\n",
       "      <td>0</td>\n",
       "      <td>0</td>\n",
       "      <td>0</td>\n",
       "      <td>negative</td>\n",
       "      <td>NaN</td>\n",
       "      <td>m</td>\n",
       "      <td>NaN</td>\n",
       "    </tr>\n",
       "  </tbody>\n",
       "</table>\n",
       "<p>158606 rows × 10 columns</p>\n",
       "</div>"
      ],
      "text/plain": [
       "         test_date  cough  fever  sore_throat  shortness_of_breath  head_ache  \\\n",
       "0       2020-11-12      0      0            0                    0          0   \n",
       "1       2020-11-12      0      1            0                    0          0   \n",
       "2       2020-11-12      0      0            0                    0          0   \n",
       "3       2020-11-12      0      0            0                    0          0   \n",
       "4       2020-11-12      0      1            0                    0          0   \n",
       "...            ...    ...    ...          ...                  ...        ...   \n",
       "158601  2020-10-30      0      0            0                    0          0   \n",
       "158602  2020-10-30      0      0            0                    0          0   \n",
       "158603  2020-10-30      0      0            0                    0          0   \n",
       "158604  2020-10-30      0      0            0                    0          0   \n",
       "158605  2020-10-30      0      0            0                    0          0   \n",
       "\n",
       "       corona_result age_60_and_above  gender         test_indication  \n",
       "0           negative               No    male                   Other  \n",
       "1           negative               No    male                   Other  \n",
       "2           negative              Yes  female                   Other  \n",
       "3           negative               No    male                   Other  \n",
       "4           negative               No    male  Contact with confirmed  \n",
       "...              ...              ...     ...                     ...  \n",
       "158601      negative              NaN    male                   Other  \n",
       "158602      negative              NaN  female                   Other  \n",
       "158603      negative              NaN    male                   Other  \n",
       "158604      negative              NaN  female                   Other  \n",
       "158605      negative              NaN       m                     NaN  \n",
       "\n",
       "[158606 rows x 10 columns]"
      ]
     },
     "execution_count": 5,
     "metadata": {},
     "output_type": "execute_result"
    }
   ],
   "source": [
    "_dataframe"
   ]
  },
  {
   "cell_type": "code",
   "execution_count": 6,
   "id": "81d3b1ee-e387-4c55-bbcd-93d88730bed6",
   "metadata": {},
   "outputs": [
    {
     "name": "stdout",
     "output_type": "stream",
     "text": [
      "<class 'pandas.core.frame.DataFrame'>\n",
      "RangeIndex: 158606 entries, 0 to 158605\n",
      "Data columns (total 10 columns):\n",
      " #   Column               Non-Null Count   Dtype \n",
      "---  ------               --------------   ----- \n",
      " 0   test_date            158606 non-null  object\n",
      " 1   cough                158606 non-null  int64 \n",
      " 2   fever                158606 non-null  int64 \n",
      " 3   sore_throat          158606 non-null  int64 \n",
      " 4   shortness_of_breath  158606 non-null  int64 \n",
      " 5   head_ache            158606 non-null  int64 \n",
      " 6   corona_result        158606 non-null  object\n",
      " 7   age_60_and_above     143624 non-null  object\n",
      " 8   gender               158209 non-null  object\n",
      " 9   test_indication      158605 non-null  object\n",
      "dtypes: int64(5), object(5)\n",
      "memory usage: 12.1+ MB\n"
     ]
    }
   ],
   "source": [
    "_dataframe.info()"
   ]
  },
  {
   "cell_type": "code",
   "execution_count": 7,
   "id": "a01567dc-a4ec-480d-ba46-1b700b2330e4",
   "metadata": {},
   "outputs": [
    {
     "data": {
      "text/plain": [
       "test_indication\n",
       "Other                     153505\n",
       "Contact with confirmed      4934\n",
       "Abroad                       166\n",
       "Name: count, dtype: int64"
      ]
     },
     "execution_count": 7,
     "metadata": {},
     "output_type": "execute_result"
    }
   ],
   "source": [
    "_dataframe['test_indication'].value_counts()"
   ]
  },
  {
   "cell_type": "code",
   "execution_count": 8,
   "id": "6d9309e1-2158-4dbf-aff0-9c182fd347f7",
   "metadata": {},
   "outputs": [
    {
     "name": "stdout",
     "output_type": "stream",
     "text": [
      "(158606, 10)\n",
      "(143502, 10)\n"
     ]
    }
   ],
   "source": [
    "print(_dataframe.shape)\n",
    "_dataframe = _dataframe.dropna()\n",
    "print(_dataframe.shape)"
   ]
  },
  {
   "cell_type": "code",
   "execution_count": 9,
   "id": "3ffa37e9-3b01-4b2e-aa54-202d7923d70c",
   "metadata": {},
   "outputs": [],
   "source": [
    "def _gender_to_binary(x):\n",
    "    row = dict(x)\n",
    "    _gender = row['gender'].lower()\n",
    "    if _gender == 'male':\n",
    "        return 1\n",
    "    else:\n",
    "        return 0\n",
    "\n",
    "def _age_60_and_above_to_binary(x):\n",
    "    row = dict(x)\n",
    "    _age = row['age_60_and_above'].lower()\n",
    "    if _age == 'yes':\n",
    "        return 1\n",
    "    else:\n",
    "        return 0\n",
    "\n",
    "def _corona_result_to_binary(x):\n",
    "    row = dict(x)\n",
    "    _corona_result = row['corona_result'].lower()\n",
    "    if _corona_result == 'positive':\n",
    "        return 1\n",
    "    else:\n",
    "        return 0\n",
    "\n",
    "def _contact_with_confimed_convert_to_binary(x):\n",
    "    row = dict(x)\n",
    "    _test_indication = row['test_indication'].lower()\n",
    "    if _test_indication == 'contact with confirmed':\n",
    "        return 1\n",
    "    else:\n",
    "        return 0"
   ]
  },
  {
   "cell_type": "code",
   "execution_count": 10,
   "id": "e5ea3145-85e4-41fc-95c7-c4dfd62b1d7b",
   "metadata": {},
   "outputs": [
    {
     "name": "stderr",
     "output_type": "stream",
     "text": [
      "C:\\Users\\jose_\\AppData\\Local\\Temp\\ipykernel_13640\\1702232514.py:1: SettingWithCopyWarning: \n",
      "A value is trying to be set on a copy of a slice from a DataFrame.\n",
      "Try using .loc[row_indexer,col_indexer] = value instead\n",
      "\n",
      "See the caveats in the documentation: https://pandas.pydata.org/pandas-docs/stable/user_guide/indexing.html#returning-a-view-versus-a-copy\n",
      "  _dataframe['contact_with_confirmed'] = _dataframe.apply(lambda row: _contact_with_confimed_convert_to_binary(row), axis=1)\n",
      "C:\\Users\\jose_\\AppData\\Local\\Temp\\ipykernel_13640\\1702232514.py:2: SettingWithCopyWarning: \n",
      "A value is trying to be set on a copy of a slice from a DataFrame.\n",
      "Try using .loc[row_indexer,col_indexer] = value instead\n",
      "\n",
      "See the caveats in the documentation: https://pandas.pydata.org/pandas-docs/stable/user_guide/indexing.html#returning-a-view-versus-a-copy\n",
      "  _dataframe['gender'] = _dataframe.apply(lambda row: _gender_to_binary(row), axis=1)\n",
      "C:\\Users\\jose_\\AppData\\Local\\Temp\\ipykernel_13640\\1702232514.py:3: SettingWithCopyWarning: \n",
      "A value is trying to be set on a copy of a slice from a DataFrame.\n",
      "Try using .loc[row_indexer,col_indexer] = value instead\n",
      "\n",
      "See the caveats in the documentation: https://pandas.pydata.org/pandas-docs/stable/user_guide/indexing.html#returning-a-view-versus-a-copy\n",
      "  _dataframe['age_60_and_above'] = _dataframe.apply(lambda row: _age_60_and_above_to_binary(row), axis=1)\n",
      "C:\\Users\\jose_\\AppData\\Local\\Temp\\ipykernel_13640\\1702232514.py:4: SettingWithCopyWarning: \n",
      "A value is trying to be set on a copy of a slice from a DataFrame.\n",
      "Try using .loc[row_indexer,col_indexer] = value instead\n",
      "\n",
      "See the caveats in the documentation: https://pandas.pydata.org/pandas-docs/stable/user_guide/indexing.html#returning-a-view-versus-a-copy\n",
      "  _dataframe['corona_result'] = _dataframe.apply(lambda row: _corona_result_to_binary(row), axis=1)\n"
     ]
    }
   ],
   "source": [
    "_dataframe['contact_with_confirmed'] = _dataframe.apply(lambda row: _contact_with_confimed_convert_to_binary(row), axis=1)\n",
    "_dataframe['gender'] = _dataframe.apply(lambda row: _gender_to_binary(row), axis=1)\n",
    "_dataframe['age_60_and_above'] = _dataframe.apply(lambda row: _age_60_and_above_to_binary(row), axis=1)\n",
    "_dataframe['corona_result'] = _dataframe.apply(lambda row: _corona_result_to_binary(row), axis=1)"
   ]
  },
  {
   "cell_type": "code",
   "execution_count": 11,
   "id": "0fdc1fc2-7438-4f28-824a-52a16d059fae",
   "metadata": {},
   "outputs": [
    {
     "data": {
      "text/html": [
       "<div>\n",
       "<style scoped>\n",
       "    .dataframe tbody tr th:only-of-type {\n",
       "        vertical-align: middle;\n",
       "    }\n",
       "\n",
       "    .dataframe tbody tr th {\n",
       "        vertical-align: top;\n",
       "    }\n",
       "\n",
       "    .dataframe thead th {\n",
       "        text-align: right;\n",
       "    }\n",
       "</style>\n",
       "<table border=\"1\" class=\"dataframe\">\n",
       "  <thead>\n",
       "    <tr style=\"text-align: right;\">\n",
       "      <th></th>\n",
       "      <th>test_date</th>\n",
       "      <th>cough</th>\n",
       "      <th>fever</th>\n",
       "      <th>sore_throat</th>\n",
       "      <th>shortness_of_breath</th>\n",
       "      <th>head_ache</th>\n",
       "      <th>corona_result</th>\n",
       "      <th>age_60_and_above</th>\n",
       "      <th>gender</th>\n",
       "      <th>test_indication</th>\n",
       "      <th>contact_with_confirmed</th>\n",
       "    </tr>\n",
       "  </thead>\n",
       "  <tbody>\n",
       "    <tr>\n",
       "      <th>0</th>\n",
       "      <td>2020-11-12</td>\n",
       "      <td>0</td>\n",
       "      <td>0</td>\n",
       "      <td>0</td>\n",
       "      <td>0</td>\n",
       "      <td>0</td>\n",
       "      <td>0</td>\n",
       "      <td>0</td>\n",
       "      <td>1</td>\n",
       "      <td>Other</td>\n",
       "      <td>0</td>\n",
       "    </tr>\n",
       "    <tr>\n",
       "      <th>1</th>\n",
       "      <td>2020-11-12</td>\n",
       "      <td>0</td>\n",
       "      <td>1</td>\n",
       "      <td>0</td>\n",
       "      <td>0</td>\n",
       "      <td>0</td>\n",
       "      <td>0</td>\n",
       "      <td>0</td>\n",
       "      <td>1</td>\n",
       "      <td>Other</td>\n",
       "      <td>0</td>\n",
       "    </tr>\n",
       "    <tr>\n",
       "      <th>2</th>\n",
       "      <td>2020-11-12</td>\n",
       "      <td>0</td>\n",
       "      <td>0</td>\n",
       "      <td>0</td>\n",
       "      <td>0</td>\n",
       "      <td>0</td>\n",
       "      <td>0</td>\n",
       "      <td>1</td>\n",
       "      <td>0</td>\n",
       "      <td>Other</td>\n",
       "      <td>0</td>\n",
       "    </tr>\n",
       "    <tr>\n",
       "      <th>3</th>\n",
       "      <td>2020-11-12</td>\n",
       "      <td>0</td>\n",
       "      <td>0</td>\n",
       "      <td>0</td>\n",
       "      <td>0</td>\n",
       "      <td>0</td>\n",
       "      <td>0</td>\n",
       "      <td>0</td>\n",
       "      <td>1</td>\n",
       "      <td>Other</td>\n",
       "      <td>0</td>\n",
       "    </tr>\n",
       "    <tr>\n",
       "      <th>4</th>\n",
       "      <td>2020-11-12</td>\n",
       "      <td>0</td>\n",
       "      <td>1</td>\n",
       "      <td>0</td>\n",
       "      <td>0</td>\n",
       "      <td>0</td>\n",
       "      <td>0</td>\n",
       "      <td>0</td>\n",
       "      <td>1</td>\n",
       "      <td>Contact with confirmed</td>\n",
       "      <td>1</td>\n",
       "    </tr>\n",
       "  </tbody>\n",
       "</table>\n",
       "</div>"
      ],
      "text/plain": [
       "    test_date  cough  fever  sore_throat  shortness_of_breath  head_ache  \\\n",
       "0  2020-11-12      0      0            0                    0          0   \n",
       "1  2020-11-12      0      1            0                    0          0   \n",
       "2  2020-11-12      0      0            0                    0          0   \n",
       "3  2020-11-12      0      0            0                    0          0   \n",
       "4  2020-11-12      0      1            0                    0          0   \n",
       "\n",
       "   corona_result  age_60_and_above  gender         test_indication  \\\n",
       "0              0                 0       1                   Other   \n",
       "1              0                 0       1                   Other   \n",
       "2              0                 1       0                   Other   \n",
       "3              0                 0       1                   Other   \n",
       "4              0                 0       1  Contact with confirmed   \n",
       "\n",
       "   contact_with_confirmed  \n",
       "0                       0  \n",
       "1                       0  \n",
       "2                       0  \n",
       "3                       0  \n",
       "4                       1  "
      ]
     },
     "execution_count": 11,
     "metadata": {},
     "output_type": "execute_result"
    }
   ],
   "source": [
    "_dataframe.head()"
   ]
  },
  {
   "cell_type": "code",
   "execution_count": 12,
   "id": "18835ed7-fdd9-473a-be9b-1232faca7171",
   "metadata": {},
   "outputs": [],
   "source": [
    "from sklearn.model_selection import train_test_split\n",
    "from sklearn.ensemble import GradientBoostingClassifier"
   ]
  },
  {
   "cell_type": "code",
   "execution_count": 34,
   "id": "60dc563d-e652-4813-9c55-258161f7c851",
   "metadata": {},
   "outputs": [],
   "source": [
    "def _build_model(X, Y):\n",
    "\n",
    "    _test_size=0.2\n",
    "    _random_state=1\n",
    "    \n",
    "    X_TRAIN, X_TEST, Y_TRAIN, Y_TEST = train_test_split(X, Y, test_size=_test_size, random_state=_random_state)\n",
    "    \n",
    "    _learning_rate=0.2\n",
    "    _no_of_estimators=200\n",
    "    _max_depth=3\n",
    "\n",
    "    MODEL = GradientBoostingClassifier(\n",
    "        learning_rate=_learning_rate, \n",
    "        n_estimators=_no_of_estimators, \n",
    "        max_depth=_max_depth\n",
    "    )\n",
    "\n",
    "    MODEL.fit(X_TRAIN, Y_TRAIN)\n",
    "\n",
    "    return X_TRAIN, X_TEST, Y_TRAIN, Y_TEST, MODEL\n",
    "\n",
    "def _predict(X_TEST):\n",
    "    Y_PRED = MODEL.predict(X_TEST)\n",
    "    return Y_PRED"
   ]
  },
  {
   "cell_type": "code",
   "execution_count": 35,
   "id": "486b4c25-bc62-4bf3-b430-e13f6381a07a",
   "metadata": {},
   "outputs": [
    {
     "data": {
      "text/plain": [
       "Index(['test_date', 'cough', 'fever', 'sore_throat', 'shortness_of_breath',\n",
       "       'head_ache', 'corona_result', 'age_60_and_above', 'gender',\n",
       "       'test_indication', 'contact_with_confirmed'],\n",
       "      dtype='object')"
      ]
     },
     "execution_count": 35,
     "metadata": {},
     "output_type": "execute_result"
    }
   ],
   "source": [
    "_dataframe.columns"
   ]
  },
  {
   "cell_type": "code",
   "execution_count": 36,
   "id": "3d516349-6593-4e98-9f29-c8f310326fe7",
   "metadata": {},
   "outputs": [],
   "source": [
    "X = _dataframe[['cough', 'fever', 'sore_throat', 'shortness_of_breath', 'head_ache', 'age_60_and_above', 'gender', 'contact_with_confirmed']]"
   ]
  },
  {
   "cell_type": "code",
   "execution_count": 37,
   "id": "5746f553-f158-40db-8bfb-890cdafe1ffd",
   "metadata": {},
   "outputs": [],
   "source": [
    "Y = _dataframe[['corona_result']]"
   ]
  },
  {
   "cell_type": "code",
   "execution_count": 38,
   "id": "886a4e22-e09f-4285-b0f1-f2b9e1dcfc68",
   "metadata": {},
   "outputs": [
    {
     "name": "stderr",
     "output_type": "stream",
     "text": [
      "C:\\ProgramData\\anaconda3\\Lib\\site-packages\\sklearn\\preprocessing\\_label.py:114: DataConversionWarning: A column-vector y was passed when a 1d array was expected. Please change the shape of y to (n_samples, ), for example using ravel().\n",
      "  y = column_or_1d(y, warn=True)\n"
     ]
    }
   ],
   "source": [
    "X_TRAIN, X_TEST, Y_TRAIN, Y_TEST, MODEL = _build_model(X, Y)"
   ]
  },
  {
   "cell_type": "code",
   "execution_count": 39,
   "id": "c58f1888-fcf5-47ad-80a1-3f7eaacad7e5",
   "metadata": {},
   "outputs": [],
   "source": [
    "Y_PRED = _predict(X_TEST)"
   ]
  },
  {
   "cell_type": "code",
   "execution_count": 41,
   "id": "e518e313-ad4a-4482-8257-6cf2ba2dcca8",
   "metadata": {},
   "outputs": [],
   "source": [
    "from sklearn.metrics import accuracy_score, recall_score, precision_score, classification_report, RocCurveDisplay"
   ]
  },
  {
   "cell_type": "code",
   "execution_count": 49,
   "id": "a6e2ede0-ac81-45a6-abce-17ad95ae50c1",
   "metadata": {},
   "outputs": [],
   "source": [
    "def _metrics(Y_TEST, Y_PRED):\n",
    "    \n",
    "    _accuracy = accuracy_score(Y_TEST, Y_PRED)\n",
    "    print(\"Accuracy: %.2f%%\" % (_accuracy * 100.0))\n",
    "\n",
    "    _recall = recall_score(Y_TEST, Y_PRED)\n",
    "    print(\"Recall: %.2f%%\" % (_recall * 100.0))\n",
    "\n",
    "    _precision = precision_score(Y_TEST, Y_PRED)\n",
    "    print(\"Precision: %.2f%%\" % (_precision * 100))"
   ]
  },
  {
   "cell_type": "code",
   "execution_count": 50,
   "id": "8bc08461-31f7-4538-9094-2fd0a5d1549a",
   "metadata": {},
   "outputs": [
    {
     "name": "stdout",
     "output_type": "stream",
     "text": [
      "Accuracy: 97.87%\n",
      "Recall: 37.27%\n",
      "Precision: 80.96%\n"
     ]
    }
   ],
   "source": [
    "_metrics(Y_TEST, Y_PRED)"
   ]
  },
  {
   "cell_type": "code",
   "execution_count": 61,
   "id": "282e10fa-2205-4528-aa96-c769ead0fc98",
   "metadata": {},
   "outputs": [],
   "source": [
    "from sklearn.metrics import confusion_matrix\n",
    "from matplotlib import pyplot as plt\n",
    "from sklearn.metrics import RocCurveDisplay"
   ]
  },
  {
   "cell_type": "code",
   "execution_count": 95,
   "id": "8d43d9e4-f9fc-4954-8134-5179abdef7c0",
   "metadata": {},
   "outputs": [],
   "source": [
    "def _plot_confusion_matrix(Y_TEST, Y_PRED):\n",
    "    \n",
    "    _confusion_matrix = confusion_matrix(\n",
    "        y_true=Y_TEST,\n",
    "        y_pred=Y_PRED\n",
    "    )\n",
    "\n",
    "    print(\"Confusion Matrix:\\n\", _confusion_matrix)\n",
    "    \n",
    "    _figure = plt.figure()\n",
    "    _labels = [\"False\", \"True\"]\n",
    "    _ax = _figure.add_subplot(111)\n",
    "    _cax = _ax.matshow(_confusion_matrix, cmap=plt.cm.Blues)\n",
    "    _figure.colorbar(_cax)\n",
    "    _ax.set_xticklabels(_labels)\n",
    "    _ax.set_yticklabels(_labels)\n",
    "\n",
    "    plt.xlabel(\"Predicted\")\n",
    "    plt.ylabel(\"Expected\")\n",
    "    plt.show()\n",
    "\n",
    "def _classification_report(Y_TEST, Y_PRED, target_names):\n",
    "    report = classification_report(Y_TEST, Y_PRED, target_names=target_names)\n",
    "    return report\n",
    "\n",
    "def roc_curve(MODEL, X_TEST, Y_TEST):\n",
    "    _svc_disp = RocCurveDisplay.from_estimator(MODEL, X_TEST, Y_TEST)\n",
    "    return _svc_disp"
   ]
  },
  {
   "cell_type": "code",
   "execution_count": 96,
   "id": "f805b082-f406-49f8-8d8b-cdc187ccaa50",
   "metadata": {},
   "outputs": [
    {
     "name": "stdout",
     "output_type": "stream",
     "text": [
      "Confusion Matrix:\n",
      " [[27770    75]\n",
      " [  537   319]]\n"
     ]
    },
    {
     "name": "stderr",
     "output_type": "stream",
     "text": [
      "C:\\Users\\jose_\\AppData\\Local\\Temp\\ipykernel_13640\\424413140.py:15: UserWarning: set_ticklabels() should only be used with a fixed number of ticks, i.e. after set_ticks() or using a FixedLocator.\n",
      "  _ax.set_xticklabels(_labels)\n",
      "C:\\Users\\jose_\\AppData\\Local\\Temp\\ipykernel_13640\\424413140.py:16: UserWarning: set_ticklabels() should only be used with a fixed number of ticks, i.e. after set_ticks() or using a FixedLocator.\n",
      "  _ax.set_yticklabels(_labels)\n"
     ]
    },
    {
     "data": {
      "image/png": "[encoded data removed]",
      "text/plain": [
       "<Figure size 640x480 with 2 Axes>"
      ]
     },
     "metadata": {},
     "output_type": "display_data"
    }
   ],
   "source": [
    "_plot_confusion_matrix(Y_TEST, Y_PRED)"
   ]
  },
  {
   "cell_type": "code",
   "execution_count": 97,
   "id": "feb1c9ef-055c-4560-a8e9-18050861efb5",
   "metadata": {},
   "outputs": [
    {
     "name": "stdout",
     "output_type": "stream",
     "text": [
      "              precision    recall  f1-score   support\n",
      "\n",
      "       False       0.98      1.00      0.99     27845\n",
      "        True       0.81      0.37      0.51       856\n",
      "\n",
      "    accuracy                           0.98     28701\n",
      "   macro avg       0.90      0.68      0.75     28701\n",
      "weighted avg       0.98      0.98      0.97     28701\n",
      "\n"
     ]
    }
   ],
   "source": [
    "target_names = ['False', 'True']\n",
    "_classification_report = classification_report(Y_TEST, Y_PRED, target_names=target_names)\n",
    "print(_classification_report)"
   ]
  },
  {
   "cell_type": "code",
   "execution_count": 98,
   "id": "81eb2fd5-583f-45d6-a4be-ac0f2cf7d020",
   "metadata": {},
   "outputs": [
    {
     "data": {
      "text/plain": [
       "<sklearn.metrics._plot.roc_curve.RocCurveDisplay at 0x2341516b690>"
      ]
     },
     "execution_count": 98,
     "metadata": {},
     "output_type": "execute_result"
    },
    {
     "data": {
      "image/png": "[encoded data removed]",
      "text/plain": [
       "<Figure size 640x480 with 1 Axes>"
      ]
     },
     "metadata": {},
     "output_type": "display_data"
    }
   ],
   "source": [
    "roc_curve(MODEL, X_TEST, Y_TEST)"
   ]
  },
  {
   "cell_type": "code",
   "execution_count": null,
   "id": "3210c225-0e7b-48eb-9bb3-11bf18c66b9c",
   "metadata": {},
   "outputs": [],
   "source": []
  }
 ],
 "metadata": {
  "kernelspec": {
   "display_name": "Python 3 (ipykernel)",
   "language": "python",
   "name": "python3"
  },
  "language_info": {
   "codemirror_mode": {
    "name": "ipython",
    "version": 3
   },
   "file_extension": ".py",
   "mimetype": "text/x-python",
   "name": "python",
   "nbconvert_exporter": "python",
   "pygments_lexer": "ipython3",
   "version": "3.11.7"
  }
 },
 "nbformat": 4,
 "nbformat_minor": 5
}
